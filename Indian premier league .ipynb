{
 "cells": [
  {
   "cell_type": "markdown",
   "metadata": {},
   "source": [
    "Overview\n",
    "\n",
    "Cricket is a bat-and-ball game played between two teams of eleven players each on a cricket field, at the centre of which is a rectangular 20-metre (22-yard) pitch with a target at each end called the wicket (a set of three wooden stumps upon which two bails sit). Each phase of play is called an innings, during which one team bats, attempting to score as many runs as possible, whilst their opponents bowl and field, attempting to minimise the number of runs scored. When each innings ends, the teams usually swap roles for the next innings (i.e. the team that previously batted will bowl/field, and vice versa). The teams each bat for one or two innings, depending on the type of match. The winning team is the one that scores the most runs, including any extras gained (except when the result is not a win/loss result). Source: https://en.wikipedia.org/wiki/Cricket"
   ]
  },
  {
   "cell_type": "markdown",
   "metadata": {},
   "source": [
    "Overview Of IPL.\n",
    "\n",
    "The Indian Premier League (IPL) is a professional Twenty20 cricket league in India contested during April and May of every year by teams representing Indian cities and some states. The league was founded by the Board of Control for Cricket in India (BCCI) in 2008. The IPL is the most-attended cricket league in the world and in 2014 ranked sixth by average attendance among all sports leagues. There have been ten seasons of the IPL tournament."
   ]
  },
  {
   "cell_type": "markdown",
   "metadata": {},
   "source": [
    "Data\n",
    "1: Matches.csv : It describes the matches from 2007 till 2017 of IPL. \n",
    "2: deliveries.csv: It describes about how much balls have been bowled by bowler in IPL."
   ]
  },
  {
   "cell_type": "markdown",
   "metadata": {},
   "source": [
    "So, the data came from Kaggle , and describes about the cricket season that is a league in india which is called INDIAN PREMIER LEAGUE. The reason of chhosing the data set is as I am from india and not just being a sport fan Cricket has been my sport from childhood, played as all rounder for my state team, It's interesting because it is the world's second sport that is loved all over the world and it will be significantly growing all over the world faster."
   ]
  },
  {
   "cell_type": "markdown",
   "metadata": {},
   "source": [
    "So, cricket is played in three formats \n",
    "1: Test cricket that is played for 5 days played with red leather ball and they wear white dress in it.\n",
    "2: One day international that is played in one day 50 over each side balls, they wear casual dress that is decided by there board of cricket.and every four year there is cricket world cup.\n",
    "3: third format is known by fastest cricket that is T-20 \"twenty twenty cricket\"each side balls 20 overs . that is 120 balls. and who sever makes more runs wins the match.\n",
    "So, in this data I have choosen that format."
   ]
  },
  {
   "cell_type": "code",
   "execution_count": 1,
   "metadata": {
    "scrolled": true
   },
   "outputs": [
    {
     "data": {
      "text/html": [
       "<div>\n",
       "<style scoped>\n",
       "    .dataframe tbody tr th:only-of-type {\n",
       "        vertical-align: middle;\n",
       "    }\n",
       "\n",
       "    .dataframe tbody tr th {\n",
       "        vertical-align: top;\n",
       "    }\n",
       "\n",
       "    .dataframe thead th {\n",
       "        text-align: right;\n",
       "    }\n",
       "</style>\n",
       "<table border=\"1\" class=\"dataframe\">\n",
       "  <thead>\n",
       "    <tr style=\"text-align: right;\">\n",
       "      <th></th>\n",
       "      <th>id</th>\n",
       "      <th>season</th>\n",
       "      <th>city</th>\n",
       "      <th>date</th>\n",
       "      <th>team1</th>\n",
       "      <th>team2</th>\n",
       "      <th>toss_winner</th>\n",
       "      <th>toss_decision</th>\n",
       "      <th>result</th>\n",
       "      <th>dl_applied</th>\n",
       "      <th>winner</th>\n",
       "      <th>win_by_runs</th>\n",
       "      <th>win_by_wickets</th>\n",
       "      <th>player_of_match</th>\n",
       "      <th>venue</th>\n",
       "      <th>umpire1</th>\n",
       "      <th>umpire2</th>\n",
       "    </tr>\n",
       "  </thead>\n",
       "  <tbody>\n",
       "    <tr>\n",
       "      <th>0</th>\n",
       "      <td>1</td>\n",
       "      <td>2017</td>\n",
       "      <td>Hyderabad</td>\n",
       "      <td>2017-04-05</td>\n",
       "      <td>Sunrisers Hyderabad</td>\n",
       "      <td>Royal Challengers Bangalore</td>\n",
       "      <td>Royal Challengers Bangalore</td>\n",
       "      <td>field</td>\n",
       "      <td>normal</td>\n",
       "      <td>0</td>\n",
       "      <td>Sunrisers Hyderabad</td>\n",
       "      <td>35</td>\n",
       "      <td>0</td>\n",
       "      <td>Yuvraj Singh</td>\n",
       "      <td>Rajiv Gandhi International Stadium, Uppal</td>\n",
       "      <td>AY Dandekar</td>\n",
       "      <td>NJ Llong</td>\n",
       "    </tr>\n",
       "    <tr>\n",
       "      <th>1</th>\n",
       "      <td>2</td>\n",
       "      <td>2017</td>\n",
       "      <td>Pune</td>\n",
       "      <td>2017-04-06</td>\n",
       "      <td>Mumbai Indians</td>\n",
       "      <td>Rising Pune Supergiant</td>\n",
       "      <td>Rising Pune Supergiant</td>\n",
       "      <td>field</td>\n",
       "      <td>normal</td>\n",
       "      <td>0</td>\n",
       "      <td>Rising Pune Supergiant</td>\n",
       "      <td>0</td>\n",
       "      <td>7</td>\n",
       "      <td>SPD Smith</td>\n",
       "      <td>Maharashtra Cricket Association Stadium</td>\n",
       "      <td>A Nand Kishore</td>\n",
       "      <td>S Ravi</td>\n",
       "    </tr>\n",
       "    <tr>\n",
       "      <th>2</th>\n",
       "      <td>3</td>\n",
       "      <td>2017</td>\n",
       "      <td>Rajkot</td>\n",
       "      <td>2017-04-07</td>\n",
       "      <td>Gujarat Lions</td>\n",
       "      <td>Kolkata Knight Riders</td>\n",
       "      <td>Kolkata Knight Riders</td>\n",
       "      <td>field</td>\n",
       "      <td>normal</td>\n",
       "      <td>0</td>\n",
       "      <td>Kolkata Knight Riders</td>\n",
       "      <td>0</td>\n",
       "      <td>10</td>\n",
       "      <td>CA Lynn</td>\n",
       "      <td>Saurashtra Cricket Association Stadium</td>\n",
       "      <td>Nitin Menon</td>\n",
       "      <td>CK Nandan</td>\n",
       "    </tr>\n",
       "  </tbody>\n",
       "</table>\n",
       "</div>"
      ],
      "text/plain": [
       "   id  season       city        date                team1  \\\n",
       "0   1    2017  Hyderabad  2017-04-05  Sunrisers Hyderabad   \n",
       "1   2    2017       Pune  2017-04-06       Mumbai Indians   \n",
       "2   3    2017     Rajkot  2017-04-07        Gujarat Lions   \n",
       "\n",
       "                         team2                  toss_winner toss_decision  \\\n",
       "0  Royal Challengers Bangalore  Royal Challengers Bangalore         field   \n",
       "1       Rising Pune Supergiant       Rising Pune Supergiant         field   \n",
       "2        Kolkata Knight Riders        Kolkata Knight Riders         field   \n",
       "\n",
       "   result  dl_applied                  winner  win_by_runs  win_by_wickets  \\\n",
       "0  normal           0     Sunrisers Hyderabad           35               0   \n",
       "1  normal           0  Rising Pune Supergiant            0               7   \n",
       "2  normal           0   Kolkata Knight Riders            0              10   \n",
       "\n",
       "  player_of_match                                      venue         umpire1  \\\n",
       "0    Yuvraj Singh  Rajiv Gandhi International Stadium, Uppal     AY Dandekar   \n",
       "1       SPD Smith    Maharashtra Cricket Association Stadium  A Nand Kishore   \n",
       "2         CA Lynn     Saurashtra Cricket Association Stadium     Nitin Menon   \n",
       "\n",
       "     umpire2  \n",
       "0   NJ Llong  \n",
       "1     S Ravi  \n",
       "2  CK Nandan  "
      ]
     },
     "execution_count": 1,
     "metadata": {},
     "output_type": "execute_result"
    }
   ],
   "source": [
    "import numpy as np \n",
    "import pandas as pd \n",
    "import seaborn as sns\n",
    "import matplotlib.pyplot as plt\n",
    "df1 =pd.read_csv('matches .csv')\n",
    "df2 = pd.read_csv('deliveries .csv')\n",
    "df1.head(3)\n"
   ]
  },
  {
   "cell_type": "code",
   "execution_count": 2,
   "metadata": {},
   "outputs": [
    {
     "data": {
      "text/html": [
       "<div>\n",
       "<style scoped>\n",
       "    .dataframe tbody tr th:only-of-type {\n",
       "        vertical-align: middle;\n",
       "    }\n",
       "\n",
       "    .dataframe tbody tr th {\n",
       "        vertical-align: top;\n",
       "    }\n",
       "\n",
       "    .dataframe thead th {\n",
       "        text-align: right;\n",
       "    }\n",
       "</style>\n",
       "<table border=\"1\" class=\"dataframe\">\n",
       "  <thead>\n",
       "    <tr style=\"text-align: right;\">\n",
       "      <th></th>\n",
       "      <th>match_id</th>\n",
       "      <th>inning</th>\n",
       "      <th>batting_team</th>\n",
       "      <th>bowling_team</th>\n",
       "      <th>over</th>\n",
       "      <th>ball</th>\n",
       "      <th>batsman</th>\n",
       "      <th>non_striker</th>\n",
       "      <th>bowler</th>\n",
       "      <th>is_super_over</th>\n",
       "      <th>...</th>\n",
       "      <th>bye_runs</th>\n",
       "      <th>legbye_runs</th>\n",
       "      <th>noball_runs</th>\n",
       "      <th>penalty_runs</th>\n",
       "      <th>batsman_runs</th>\n",
       "      <th>extra_runs</th>\n",
       "      <th>total_runs</th>\n",
       "      <th>player_dismissed</th>\n",
       "      <th>dismissal_kind</th>\n",
       "      <th>fielder</th>\n",
       "    </tr>\n",
       "  </thead>\n",
       "  <tbody>\n",
       "    <tr>\n",
       "      <th>0</th>\n",
       "      <td>1</td>\n",
       "      <td>1</td>\n",
       "      <td>Sunrisers Hyderabad</td>\n",
       "      <td>Royal Challengers Bangalore</td>\n",
       "      <td>1</td>\n",
       "      <td>1</td>\n",
       "      <td>DA Warner</td>\n",
       "      <td>S Dhawan</td>\n",
       "      <td>TS Mills</td>\n",
       "      <td>0</td>\n",
       "      <td>...</td>\n",
       "      <td>0</td>\n",
       "      <td>0</td>\n",
       "      <td>0</td>\n",
       "      <td>0</td>\n",
       "      <td>0</td>\n",
       "      <td>0</td>\n",
       "      <td>0</td>\n",
       "      <td>NaN</td>\n",
       "      <td>NaN</td>\n",
       "      <td>NaN</td>\n",
       "    </tr>\n",
       "    <tr>\n",
       "      <th>1</th>\n",
       "      <td>1</td>\n",
       "      <td>1</td>\n",
       "      <td>Sunrisers Hyderabad</td>\n",
       "      <td>Royal Challengers Bangalore</td>\n",
       "      <td>1</td>\n",
       "      <td>2</td>\n",
       "      <td>DA Warner</td>\n",
       "      <td>S Dhawan</td>\n",
       "      <td>TS Mills</td>\n",
       "      <td>0</td>\n",
       "      <td>...</td>\n",
       "      <td>0</td>\n",
       "      <td>0</td>\n",
       "      <td>0</td>\n",
       "      <td>0</td>\n",
       "      <td>0</td>\n",
       "      <td>0</td>\n",
       "      <td>0</td>\n",
       "      <td>NaN</td>\n",
       "      <td>NaN</td>\n",
       "      <td>NaN</td>\n",
       "    </tr>\n",
       "    <tr>\n",
       "      <th>2</th>\n",
       "      <td>1</td>\n",
       "      <td>1</td>\n",
       "      <td>Sunrisers Hyderabad</td>\n",
       "      <td>Royal Challengers Bangalore</td>\n",
       "      <td>1</td>\n",
       "      <td>3</td>\n",
       "      <td>DA Warner</td>\n",
       "      <td>S Dhawan</td>\n",
       "      <td>TS Mills</td>\n",
       "      <td>0</td>\n",
       "      <td>...</td>\n",
       "      <td>0</td>\n",
       "      <td>0</td>\n",
       "      <td>0</td>\n",
       "      <td>0</td>\n",
       "      <td>4</td>\n",
       "      <td>0</td>\n",
       "      <td>4</td>\n",
       "      <td>NaN</td>\n",
       "      <td>NaN</td>\n",
       "      <td>NaN</td>\n",
       "    </tr>\n",
       "  </tbody>\n",
       "</table>\n",
       "<p>3 rows × 21 columns</p>\n",
       "</div>"
      ],
      "text/plain": [
       "   match_id  inning         batting_team                 bowling_team  over  \\\n",
       "0         1       1  Sunrisers Hyderabad  Royal Challengers Bangalore     1   \n",
       "1         1       1  Sunrisers Hyderabad  Royal Challengers Bangalore     1   \n",
       "2         1       1  Sunrisers Hyderabad  Royal Challengers Bangalore     1   \n",
       "\n",
       "   ball    batsman non_striker    bowler  is_super_over   ...    bye_runs  \\\n",
       "0     1  DA Warner    S Dhawan  TS Mills              0   ...           0   \n",
       "1     2  DA Warner    S Dhawan  TS Mills              0   ...           0   \n",
       "2     3  DA Warner    S Dhawan  TS Mills              0   ...           0   \n",
       "\n",
       "   legbye_runs  noball_runs  penalty_runs  batsman_runs  extra_runs  \\\n",
       "0            0            0             0             0           0   \n",
       "1            0            0             0             0           0   \n",
       "2            0            0             0             4           0   \n",
       "\n",
       "   total_runs  player_dismissed dismissal_kind fielder  \n",
       "0           0               NaN            NaN     NaN  \n",
       "1           0               NaN            NaN     NaN  \n",
       "2           4               NaN            NaN     NaN  \n",
       "\n",
       "[3 rows x 21 columns]"
      ]
     },
     "execution_count": 2,
     "metadata": {},
     "output_type": "execute_result"
    }
   ],
   "source": [
    "df2.head(3)"
   ]
  },
  {
   "cell_type": "code",
   "execution_count": 3,
   "metadata": {},
   "outputs": [
    {
     "data": {
      "text/html": [
       "<div>\n",
       "<style scoped>\n",
       "    .dataframe tbody tr th:only-of-type {\n",
       "        vertical-align: middle;\n",
       "    }\n",
       "\n",
       "    .dataframe tbody tr th {\n",
       "        vertical-align: top;\n",
       "    }\n",
       "\n",
       "    .dataframe thead th {\n",
       "        text-align: right;\n",
       "    }\n",
       "</style>\n",
       "<table border=\"1\" class=\"dataframe\">\n",
       "  <thead>\n",
       "    <tr style=\"text-align: right;\">\n",
       "      <th></th>\n",
       "      <th>id</th>\n",
       "      <th>season</th>\n",
       "      <th>dl_applied</th>\n",
       "      <th>win_by_runs</th>\n",
       "      <th>win_by_wickets</th>\n",
       "    </tr>\n",
       "  </thead>\n",
       "  <tbody>\n",
       "    <tr>\n",
       "      <th>count</th>\n",
       "      <td>636.000000</td>\n",
       "      <td>636.000000</td>\n",
       "      <td>636.000000</td>\n",
       "      <td>636.000000</td>\n",
       "      <td>636.000000</td>\n",
       "    </tr>\n",
       "    <tr>\n",
       "      <th>mean</th>\n",
       "      <td>318.500000</td>\n",
       "      <td>2012.490566</td>\n",
       "      <td>0.025157</td>\n",
       "      <td>13.682390</td>\n",
       "      <td>3.372642</td>\n",
       "    </tr>\n",
       "    <tr>\n",
       "      <th>std</th>\n",
       "      <td>183.741666</td>\n",
       "      <td>2.773026</td>\n",
       "      <td>0.156726</td>\n",
       "      <td>23.908877</td>\n",
       "      <td>3.420338</td>\n",
       "    </tr>\n",
       "    <tr>\n",
       "      <th>min</th>\n",
       "      <td>1.000000</td>\n",
       "      <td>2008.000000</td>\n",
       "      <td>0.000000</td>\n",
       "      <td>0.000000</td>\n",
       "      <td>0.000000</td>\n",
       "    </tr>\n",
       "    <tr>\n",
       "      <th>25%</th>\n",
       "      <td>159.750000</td>\n",
       "      <td>2010.000000</td>\n",
       "      <td>0.000000</td>\n",
       "      <td>0.000000</td>\n",
       "      <td>0.000000</td>\n",
       "    </tr>\n",
       "    <tr>\n",
       "      <th>50%</th>\n",
       "      <td>318.500000</td>\n",
       "      <td>2012.000000</td>\n",
       "      <td>0.000000</td>\n",
       "      <td>0.000000</td>\n",
       "      <td>4.000000</td>\n",
       "    </tr>\n",
       "    <tr>\n",
       "      <th>75%</th>\n",
       "      <td>477.250000</td>\n",
       "      <td>2015.000000</td>\n",
       "      <td>0.000000</td>\n",
       "      <td>20.000000</td>\n",
       "      <td>7.000000</td>\n",
       "    </tr>\n",
       "    <tr>\n",
       "      <th>max</th>\n",
       "      <td>636.000000</td>\n",
       "      <td>2017.000000</td>\n",
       "      <td>1.000000</td>\n",
       "      <td>146.000000</td>\n",
       "      <td>10.000000</td>\n",
       "    </tr>\n",
       "  </tbody>\n",
       "</table>\n",
       "</div>"
      ],
      "text/plain": [
       "               id       season  dl_applied  win_by_runs  win_by_wickets\n",
       "count  636.000000   636.000000  636.000000   636.000000      636.000000\n",
       "mean   318.500000  2012.490566    0.025157    13.682390        3.372642\n",
       "std    183.741666     2.773026    0.156726    23.908877        3.420338\n",
       "min      1.000000  2008.000000    0.000000     0.000000        0.000000\n",
       "25%    159.750000  2010.000000    0.000000     0.000000        0.000000\n",
       "50%    318.500000  2012.000000    0.000000     0.000000        4.000000\n",
       "75%    477.250000  2015.000000    0.000000    20.000000        7.000000\n",
       "max    636.000000  2017.000000    1.000000   146.000000       10.000000"
      ]
     },
     "execution_count": 3,
     "metadata": {},
     "output_type": "execute_result"
    }
   ],
   "source": [
    "df1.describe()"
   ]
  },
  {
   "cell_type": "markdown",
   "metadata": {},
   "source": [
    "Basic questions: \n",
    "1: How many matches we have in data set?\n",
    "2: How many seasons we have in data set?\n",
    "3: Which team had won by maximum runs?\n",
    "4: Which team had won by maximum wickets?\n",
    "5: which player have won maximum MOM awards?\n",
    "6: which team have Won most number of matches?\n",
    "7: Which season had most number of matches?\n",
    "8: Which is the most successful bowling team?\n",
    "9: Write History about grounds."
   ]
  },
  {
   "cell_type": "markdown",
   "metadata": {},
   "source": [
    " # how many matches we have in data set?"
   ]
  },
  {
   "cell_type": "code",
   "execution_count": 4,
   "metadata": {},
   "outputs": [
    {
     "data": {
      "text/plain": [
       "636"
      ]
     },
     "execution_count": 4,
     "metadata": {},
     "output_type": "execute_result"
    }
   ],
   "source": [
    "df1['id'].max()"
   ]
  },
  {
   "cell_type": "markdown",
   "metadata": {},
   "source": [
    "# how many seasons we have in data set?"
   ]
  },
  {
   "cell_type": "code",
   "execution_count": 5,
   "metadata": {},
   "outputs": [
    {
     "data": {
      "text/plain": [
       "array([2017, 2008, 2009, 2010, 2011, 2012, 2013, 2014, 2015, 2016])"
      ]
     },
     "execution_count": 5,
     "metadata": {},
     "output_type": "execute_result"
    }
   ],
   "source": [
    "df1['season'].unique()"
   ]
  },
  {
   "cell_type": "markdown",
   "metadata": {},
   "source": [
    "# which team had won by maxium runs?"
   ]
  },
  {
   "cell_type": "code",
   "execution_count": 6,
   "metadata": {},
   "outputs": [
    {
     "data": {
      "text/plain": [
       "id                               44\n",
       "season                         2017\n",
       "city                          Delhi\n",
       "date                     2017-05-06\n",
       "team1                Mumbai Indians\n",
       "team2              Delhi Daredevils\n",
       "toss_winner        Delhi Daredevils\n",
       "toss_decision                 field\n",
       "result                       normal\n",
       "dl_applied                        0\n",
       "winner               Mumbai Indians\n",
       "win_by_runs                     146\n",
       "win_by_wickets                    0\n",
       "player_of_match         LMP Simmons\n",
       "venue              Feroz Shah Kotla\n",
       "umpire1                 Nitin Menon\n",
       "umpire2                   CK Nandan\n",
       "Name: 43, dtype: object"
      ]
     },
     "execution_count": 6,
     "metadata": {},
     "output_type": "execute_result"
    }
   ],
   "source": [
    "df1.iloc[df1['win_by_runs'].idxmax()]"
   ]
  },
  {
   "cell_type": "markdown",
   "metadata": {},
   "source": [
    "# Which Team had won by closest Margin (minimum runs)?"
   ]
  },
  {
   "cell_type": "code",
   "execution_count": 21,
   "metadata": {},
   "outputs": [
    {
     "data": {
      "text/plain": [
       "id                                                        59\n",
       "season                                                  2017\n",
       "city                                               Hyderabad\n",
       "date                                              2017-05-21\n",
       "team1                                         Mumbai Indians\n",
       "team2                                 Rising Pune Supergiant\n",
       "toss_winner                                   Mumbai Indians\n",
       "toss_decision                                            bat\n",
       "result                                                normal\n",
       "dl_applied                                                 0\n",
       "winner                                        Mumbai Indians\n",
       "win_by_runs                                                1\n",
       "win_by_wickets                                             0\n",
       "player_of_match                                    KH Pandya\n",
       "venue              Rajiv Gandhi International Stadium, Uppal\n",
       "umpire1                                             NJ Llong\n",
       "umpire2                                               S Ravi\n",
       "Name: 58, dtype: object"
      ]
     },
     "execution_count": 21,
     "metadata": {},
     "output_type": "execute_result"
    }
   ],
   "source": [
    "df1.iloc[df1[df1['win_by_runs'].ge(1)].win_by_runs.idxmin()]"
   ]
  },
  {
   "cell_type": "markdown",
   "metadata": {},
   "source": [
    "# Which Team had won by maximum wickets?"
   ]
  },
  {
   "cell_type": "code",
   "execution_count": 7,
   "metadata": {},
   "outputs": [
    {
     "data": {
      "text/plain": [
       "id                                                      3\n",
       "season                                               2017\n",
       "city                                               Rajkot\n",
       "date                                           2017-04-07\n",
       "team1                                       Gujarat Lions\n",
       "team2                               Kolkata Knight Riders\n",
       "toss_winner                         Kolkata Knight Riders\n",
       "toss_decision                                       field\n",
       "result                                             normal\n",
       "dl_applied                                              0\n",
       "winner                              Kolkata Knight Riders\n",
       "win_by_runs                                             0\n",
       "win_by_wickets                                         10\n",
       "player_of_match                                   CA Lynn\n",
       "venue              Saurashtra Cricket Association Stadium\n",
       "umpire1                                       Nitin Menon\n",
       "umpire2                                         CK Nandan\n",
       "Name: 2, dtype: object"
      ]
     },
     "execution_count": 7,
     "metadata": {},
     "output_type": "execute_result"
    }
   ],
   "source": [
    "df1.iloc[df1['win_by_wickets'].idxmax()]"
   ]
  },
  {
   "cell_type": "markdown",
   "metadata": {},
   "source": [
    "# which player  have won most player of match awards?"
   ]
  },
  {
   "cell_type": "code",
   "execution_count": 8,
   "metadata": {},
   "outputs": [
    {
     "data": {
      "text/plain": [
       "CH Gayle          18\n",
       "YK Pathan         16\n",
       "AB de Villiers    15\n",
       "DA Warner         15\n",
       "RG Sharma         14\n",
       "SK Raina          14\n",
       "MS Dhoni          13\n",
       "Name: player_of_match, dtype: int64"
      ]
     },
     "execution_count": 8,
     "metadata": {},
     "output_type": "execute_result"
    }
   ],
   "source": [
    "df1[\"player_of_match\"].value_counts().head(7)"
   ]
  },
  {
   "cell_type": "code",
   "execution_count": 9,
   "metadata": {},
   "outputs": [
    {
     "data": {
      "text/plain": [
       "<matplotlib.axes._subplots.AxesSubplot at 0x10573d9b0>"
      ]
     },
     "execution_count": 9,
     "metadata": {},
     "output_type": "execute_result"
    },
    {
     "data": {
      "image/png": "[encoded data removed]",
      "text/plain": [
       "<Figure size 720x720 with 1 Axes>"
      ]
     },
     "metadata": {},
     "output_type": "display_data"
    }
   ],
   "source": [
    "plt.subplots(figsize=(10,10))\n",
    "df1[\"player_of_match\"].value_counts().head(7).plot.bar()"
   ]
  },
  {
   "cell_type": "markdown",
   "metadata": {},
   "source": [
    "The Jamacian boy #Chris Gayle, who hits big sixes."
   ]
  },
  {
   "cell_type": "markdown",
   "metadata": {},
   "source": [
    "# TEAM WHICH HAVE WON MOST NUMBERS OF MATCHES"
   ]
  },
  {
   "cell_type": "code",
   "execution_count": 10,
   "metadata": {},
   "outputs": [
    {
     "data": {
      "image/png": "[encoded data removed]",
      "text/plain": [
       "<Figure size 720x432 with 1 Axes>"
      ]
     },
     "metadata": {},
     "output_type": "display_data"
    }
   ],
   "source": [
    "plt.subplots(figsize=(10,6))\n",
    "df1['winner'].value_counts().plot.bar(width=0.6)\n",
    "plt.show()"
   ]
  },
  {
   "cell_type": "markdown",
   "metadata": {},
   "source": [
    "As usual , Mumbai Indians."
   ]
  },
  {
   "cell_type": "markdown",
   "metadata": {},
   "source": [
    "# Which season had most no of matches?"
   ]
  },
  {
   "cell_type": "code",
   "execution_count": 11,
   "metadata": {},
   "outputs": [
    {
     "data": {
      "image/png": "[encoded data removed]",
      "text/plain": [
       "<Figure size 720x432 with 1 Axes>"
      ]
     },
     "metadata": {},
     "output_type": "display_data"
    }
   ],
   "source": [
    "plt.subplots(figsize=(10,6))\n",
    "df1['season'].value_counts().plot.bar(width=0.6)\n",
    "plt.show()"
   ]
  },
  {
   "cell_type": "markdown",
   "metadata": {},
   "source": [
    "Seasosn with most matches are 2013, New teams were added in this season."
   ]
  },
  {
   "cell_type": "markdown",
   "metadata": {},
   "source": [
    "# the most successful bowling team."
   ]
  },
  {
   "cell_type": "code",
   "execution_count": 12,
   "metadata": {},
   "outputs": [
    {
     "data": {
      "text/plain": [
       "Mumbai Indians                 8138\n",
       "Royal Challengers Bangalore    7882\n",
       "Delhi Daredevils               7851\n",
       "Kolkata Knight Riders          7514\n",
       "Kings XI Punjab                7445\n",
       "Deccan Chargers                6623\n",
       "Chennai Super Kings            6584\n",
       "Rajasthan Royals               6197\n",
       "Rising Pune Supergiant         1928\n",
       "Gujarat Lions                  1640\n",
       "Sunrisers Hyderabad            1612\n",
       "Kochi Tuskers Kerala           1057\n",
       "Pune Warriors                  1028\n",
       "Name: bowling_team, dtype: int64"
      ]
     },
     "execution_count": 12,
     "metadata": {},
     "output_type": "execute_result"
    }
   ],
   "source": [
    "df2.bowling_team.value_counts()"
   ]
  },
  {
   "cell_type": "code",
   "execution_count": 13,
   "metadata": {},
   "outputs": [
    {
     "data": {
      "image/png": "[encoded data removed]",
      "text/plain": [
       "<Figure size 720x432 with 1 Axes>"
      ]
     },
     "metadata": {},
     "output_type": "display_data"
    }
   ],
   "source": [
    "plt.subplots(figsize=(10,6))\n",
    "df2['bowling_team'].value_counts().plot.bar(width=0.6)\n",
    "plt.show()"
   ]
  },
  {
   "cell_type": "markdown",
   "metadata": {},
   "source": [
    "Mumbai Indians with 3 times winning the league, as always at the top."
   ]
  },
  {
   "cell_type": "markdown",
   "metadata": {},
   "source": [
    "# History about Grounds"
   ]
  },
  {
   "cell_type": "code",
   "execution_count": 30,
   "metadata": {},
   "outputs": [
    {
     "data": {
      "image/png": "[encoded data removed]",
      "text/plain": [
       "<Figure size 720x432 with 1 Axes>"
      ]
     },
     "metadata": {},
     "output_type": "display_data"
    }
   ],
   "source": [
    "plt.subplots(figsize=(10,6))\n",
    "ax = df1['venue'].value_counts().plot.bar(width=.8, color=[\"red\", \"green\", \"yellow\", \"purple\"])\n",
    "ax.set_xlabel('Grounds')\n",
    "ax.set_ylabel('count')\n",
    "plt.show()\n"
   ]
  },
  {
   "cell_type": "markdown",
   "metadata": {},
   "source": [
    "M chninnaswamay Stadium , Always a good ground for Batsman ."
   ]
  },
  {
   "cell_type": "markdown",
   "metadata": {},
   "source": [
    "# lets look at the results."
   ]
  },
  {
   "cell_type": "code",
   "execution_count": 14,
   "metadata": {},
   "outputs": [
    {
     "data": {
      "text/plain": [
       "normal       626\n",
       "tie            7\n",
       "no result      3\n",
       "Name: result, dtype: int64"
      ]
     },
     "execution_count": 14,
     "metadata": {},
     "output_type": "execute_result"
    }
   ],
   "source": [
    "df1.result.value_counts()"
   ]
  },
  {
   "cell_type": "markdown",
   "metadata": {},
   "source": [
    "# find out the TIE matches."
   ]
  },
  {
   "cell_type": "code",
   "execution_count": 15,
   "metadata": {},
   "outputs": [
    {
     "data": {
      "text/html": [
       "<div>\n",
       "<style scoped>\n",
       "    .dataframe tbody tr th:only-of-type {\n",
       "        vertical-align: middle;\n",
       "    }\n",
       "\n",
       "    .dataframe tbody tr th {\n",
       "        vertical-align: top;\n",
       "    }\n",
       "\n",
       "    .dataframe thead th {\n",
       "        text-align: right;\n",
       "    }\n",
       "</style>\n",
       "<table border=\"1\" class=\"dataframe\">\n",
       "  <thead>\n",
       "    <tr style=\"text-align: right;\">\n",
       "      <th></th>\n",
       "      <th>id</th>\n",
       "      <th>season</th>\n",
       "      <th>city</th>\n",
       "      <th>date</th>\n",
       "      <th>team1</th>\n",
       "      <th>team2</th>\n",
       "      <th>toss_winner</th>\n",
       "      <th>toss_decision</th>\n",
       "      <th>result</th>\n",
       "      <th>dl_applied</th>\n",
       "      <th>winner</th>\n",
       "      <th>win_by_runs</th>\n",
       "      <th>win_by_wickets</th>\n",
       "      <th>player_of_match</th>\n",
       "      <th>venue</th>\n",
       "      <th>umpire1</th>\n",
       "      <th>umpire2</th>\n",
       "    </tr>\n",
       "  </thead>\n",
       "  <tbody>\n",
       "    <tr>\n",
       "      <th>33</th>\n",
       "      <td>34</td>\n",
       "      <td>2017</td>\n",
       "      <td>Rajkot</td>\n",
       "      <td>2017-04-29</td>\n",
       "      <td>Gujarat Lions</td>\n",
       "      <td>Mumbai Indians</td>\n",
       "      <td>Gujarat Lions</td>\n",
       "      <td>bat</td>\n",
       "      <td>tie</td>\n",
       "      <td>0</td>\n",
       "      <td>Mumbai Indians</td>\n",
       "      <td>0</td>\n",
       "      <td>0</td>\n",
       "      <td>KH Pandya</td>\n",
       "      <td>Saurashtra Cricket Association Stadium</td>\n",
       "      <td>AK Chaudhary</td>\n",
       "      <td>CB Gaffaney</td>\n",
       "    </tr>\n",
       "    <tr>\n",
       "      <th>125</th>\n",
       "      <td>126</td>\n",
       "      <td>2009</td>\n",
       "      <td>Cape Town</td>\n",
       "      <td>2009-04-23</td>\n",
       "      <td>Rajasthan Royals</td>\n",
       "      <td>Kolkata Knight Riders</td>\n",
       "      <td>Kolkata Knight Riders</td>\n",
       "      <td>field</td>\n",
       "      <td>tie</td>\n",
       "      <td>0</td>\n",
       "      <td>Rajasthan Royals</td>\n",
       "      <td>0</td>\n",
       "      <td>0</td>\n",
       "      <td>YK Pathan</td>\n",
       "      <td>Newlands</td>\n",
       "      <td>MR Benson</td>\n",
       "      <td>M Erasmus</td>\n",
       "    </tr>\n",
       "    <tr>\n",
       "      <th>189</th>\n",
       "      <td>190</td>\n",
       "      <td>2010</td>\n",
       "      <td>Chennai</td>\n",
       "      <td>2010-03-21</td>\n",
       "      <td>Kings XI Punjab</td>\n",
       "      <td>Chennai Super Kings</td>\n",
       "      <td>Chennai Super Kings</td>\n",
       "      <td>field</td>\n",
       "      <td>tie</td>\n",
       "      <td>0</td>\n",
       "      <td>Kings XI Punjab</td>\n",
       "      <td>0</td>\n",
       "      <td>0</td>\n",
       "      <td>J Theron</td>\n",
       "      <td>MA Chidambaram Stadium, Chepauk</td>\n",
       "      <td>K Hariharan</td>\n",
       "      <td>DJ Harper</td>\n",
       "    </tr>\n",
       "    <tr>\n",
       "      <th>387</th>\n",
       "      <td>388</td>\n",
       "      <td>2013</td>\n",
       "      <td>Hyderabad</td>\n",
       "      <td>2013-04-07</td>\n",
       "      <td>Royal Challengers Bangalore</td>\n",
       "      <td>Sunrisers Hyderabad</td>\n",
       "      <td>Royal Challengers Bangalore</td>\n",
       "      <td>bat</td>\n",
       "      <td>tie</td>\n",
       "      <td>0</td>\n",
       "      <td>Sunrisers Hyderabad</td>\n",
       "      <td>0</td>\n",
       "      <td>0</td>\n",
       "      <td>GH Vihari</td>\n",
       "      <td>Rajiv Gandhi International Stadium, Uppal</td>\n",
       "      <td>AK Chaudhary</td>\n",
       "      <td>S Ravi</td>\n",
       "    </tr>\n",
       "    <tr>\n",
       "      <th>400</th>\n",
       "      <td>401</td>\n",
       "      <td>2013</td>\n",
       "      <td>Bangalore</td>\n",
       "      <td>2013-04-16</td>\n",
       "      <td>Delhi Daredevils</td>\n",
       "      <td>Royal Challengers Bangalore</td>\n",
       "      <td>Royal Challengers Bangalore</td>\n",
       "      <td>field</td>\n",
       "      <td>tie</td>\n",
       "      <td>0</td>\n",
       "      <td>Royal Challengers Bangalore</td>\n",
       "      <td>0</td>\n",
       "      <td>0</td>\n",
       "      <td>V Kohli</td>\n",
       "      <td>M Chinnaswamy Stadium</td>\n",
       "      <td>M Erasmus</td>\n",
       "      <td>VA Kulkarni</td>\n",
       "    </tr>\n",
       "    <tr>\n",
       "      <th>475</th>\n",
       "      <td>476</td>\n",
       "      <td>2014</td>\n",
       "      <td>Abu Dhabi</td>\n",
       "      <td>2014-04-29</td>\n",
       "      <td>Rajasthan Royals</td>\n",
       "      <td>Kolkata Knight Riders</td>\n",
       "      <td>Rajasthan Royals</td>\n",
       "      <td>bat</td>\n",
       "      <td>tie</td>\n",
       "      <td>0</td>\n",
       "      <td>Rajasthan Royals</td>\n",
       "      <td>0</td>\n",
       "      <td>0</td>\n",
       "      <td>JP Faulkner</td>\n",
       "      <td>Sheikh Zayed Stadium</td>\n",
       "      <td>Aleem Dar</td>\n",
       "      <td>AK Chaudhary</td>\n",
       "    </tr>\n",
       "    <tr>\n",
       "      <th>535</th>\n",
       "      <td>536</td>\n",
       "      <td>2015</td>\n",
       "      <td>Ahmedabad</td>\n",
       "      <td>2015-04-21</td>\n",
       "      <td>Rajasthan Royals</td>\n",
       "      <td>Kings XI Punjab</td>\n",
       "      <td>Kings XI Punjab</td>\n",
       "      <td>field</td>\n",
       "      <td>tie</td>\n",
       "      <td>0</td>\n",
       "      <td>Kings XI Punjab</td>\n",
       "      <td>0</td>\n",
       "      <td>0</td>\n",
       "      <td>SE Marsh</td>\n",
       "      <td>Sardar Patel Stadium, Motera</td>\n",
       "      <td>M Erasmus</td>\n",
       "      <td>S Ravi</td>\n",
       "    </tr>\n",
       "  </tbody>\n",
       "</table>\n",
       "</div>"
      ],
      "text/plain": [
       "      id  season       city        date                        team1  \\\n",
       "33    34    2017     Rajkot  2017-04-29                Gujarat Lions   \n",
       "125  126    2009  Cape Town  2009-04-23             Rajasthan Royals   \n",
       "189  190    2010    Chennai  2010-03-21              Kings XI Punjab   \n",
       "387  388    2013  Hyderabad  2013-04-07  Royal Challengers Bangalore   \n",
       "400  401    2013  Bangalore  2013-04-16             Delhi Daredevils   \n",
       "475  476    2014  Abu Dhabi  2014-04-29             Rajasthan Royals   \n",
       "535  536    2015  Ahmedabad  2015-04-21             Rajasthan Royals   \n",
       "\n",
       "                           team2                  toss_winner toss_decision  \\\n",
       "33                Mumbai Indians                Gujarat Lions           bat   \n",
       "125        Kolkata Knight Riders        Kolkata Knight Riders         field   \n",
       "189          Chennai Super Kings          Chennai Super Kings         field   \n",
       "387          Sunrisers Hyderabad  Royal Challengers Bangalore           bat   \n",
       "400  Royal Challengers Bangalore  Royal Challengers Bangalore         field   \n",
       "475        Kolkata Knight Riders             Rajasthan Royals           bat   \n",
       "535              Kings XI Punjab              Kings XI Punjab         field   \n",
       "\n",
       "    result  dl_applied                       winner  win_by_runs  \\\n",
       "33     tie           0               Mumbai Indians            0   \n",
       "125    tie           0             Rajasthan Royals            0   \n",
       "189    tie           0              Kings XI Punjab            0   \n",
       "387    tie           0          Sunrisers Hyderabad            0   \n",
       "400    tie           0  Royal Challengers Bangalore            0   \n",
       "475    tie           0             Rajasthan Royals            0   \n",
       "535    tie           0              Kings XI Punjab            0   \n",
       "\n",
       "     win_by_wickets player_of_match  \\\n",
       "33                0       KH Pandya   \n",
       "125               0       YK Pathan   \n",
       "189               0        J Theron   \n",
       "387               0       GH Vihari   \n",
       "400               0         V Kohli   \n",
       "475               0     JP Faulkner   \n",
       "535               0        SE Marsh   \n",
       "\n",
       "                                         venue       umpire1       umpire2  \n",
       "33      Saurashtra Cricket Association Stadium  AK Chaudhary   CB Gaffaney  \n",
       "125                                   Newlands     MR Benson     M Erasmus  \n",
       "189            MA Chidambaram Stadium, Chepauk   K Hariharan     DJ Harper  \n",
       "387  Rajiv Gandhi International Stadium, Uppal  AK Chaudhary        S Ravi  \n",
       "400                      M Chinnaswamy Stadium     M Erasmus   VA Kulkarni  \n",
       "475                       Sheikh Zayed Stadium     Aleem Dar  AK Chaudhary  \n",
       "535               Sardar Patel Stadium, Motera     M Erasmus        S Ravi  "
      ]
     },
     "execution_count": 15,
     "metadata": {},
     "output_type": "execute_result"
    }
   ],
   "source": [
    "tie_df1 = df1.loc[df1.result=='tie']\n",
    "tie_df1"
   ]
  },
  {
   "cell_type": "markdown",
   "metadata": {},
   "source": [
    "Starting up with narrative analytical questions which are as follows\n",
    "As toss comes first So, \n",
    "1:lets predict the toss winner.\n",
    "2:Now see the number of matches vs season played in each season\n",
    "3:It's difficult to get 200+ Runs , So lets see how it comes out to be?\n",
    "4:Will See the results between the two consistent and match winning team results by comparing there matches played in there home and away from home.\n",
    "5: Top 10 Batsman of all the time from 2007-2017"
   ]
  },
  {
   "cell_type": "markdown",
   "metadata": {},
   "source": [
    "# lets predict the toss winner."
   ]
  },
  {
   "cell_type": "code",
   "execution_count": 16,
   "metadata": {},
   "outputs": [
    {
     "data": {
      "text/plain": [
       "False    311\n",
       "True     325\n",
       "dtype: int64"
      ]
     },
     "execution_count": 16,
     "metadata": {},
     "output_type": "execute_result"
    }
   ],
   "source": [
    "ss = df1['toss_winner'] == df1['winner']\n",
    "\n",
    "ss.groupby(ss).size()"
   ]
  },
  {
   "cell_type": "markdown",
   "metadata": {},
   "source": [
    "# what is the percentage of it?"
   ]
  },
  {
   "cell_type": "code",
   "execution_count": 17,
   "metadata": {},
   "outputs": [
    {
     "data": {
      "text/plain": [
       "False    48.9\n",
       "True     51.1\n",
       "dtype: float64"
      ]
     },
     "execution_count": 17,
     "metadata": {},
     "output_type": "execute_result"
    }
   ],
   "source": [
    "round(ss.groupby(ss).size() / ss.count() * 100,2)"
   ]
  },
  {
   "cell_type": "markdown",
   "metadata": {},
   "source": [
    "# DO THE TEAM WINS IF THEY WON THE TOSS ?"
   ]
  },
  {
   "cell_type": "code",
   "execution_count": 18,
   "metadata": {},
   "outputs": [
    {
     "data": {
      "image/png": "[encoded data removed]",
      "text/plain": [
       "<Figure size 432x288 with 1 Axes>"
      ]
     },
     "metadata": {},
     "output_type": "display_data"
    }
   ],
   "source": [
    "df=df1[df1['toss_winner']==df1['winner']]\n",
    "slices=[len(df),(577-len(df))]\n",
    "labels=['yes','no']\n",
    "plt.pie(slices,labels=labels,startangle=90,autopct='%1.1f%%',colors=['red','green'])\n",
    "plt.show()"
   ]
  },
  {
   "cell_type": "markdown",
   "metadata": {},
   "source": [
    "# Plotting a Histogram to get the number of matches vs seasons played in each season.\n"
   ]
  },
  {
   "cell_type": "code",
   "execution_count": 19,
   "metadata": {
    "scrolled": true
   },
   "outputs": [
    {
     "data": {
      "image/png": "[encoded data removed]",
      "text/plain": [
       "<Figure size 720x432 with 1 Axes>"
      ]
     },
     "metadata": {},
     "output_type": "display_data"
    }
   ],
   "source": [
    "plt.subplots(figsize=(10,6))\n",
    "df1['season'].hist(color = 'green',bins = 20,  grid = False)\n",
    "plt.title(\"Histogram to show number of matches Played In Each Season of IPL\",fontsize = 20)\n",
    "plt.xlabel(\"Years in Which the IPL Was Played\", fontsize = 15)\n",
    "plt.ylabel(\"Matches Played in the Season\", fontsize = 15)\n",
    "plt.xticks(np.arange(2008,2018, step = 1), rotation=40)\n",
    "plt.show()\n"
   ]
  },
  {
   "cell_type": "markdown",
   "metadata": {},
   "source": [
    "# It's difficult to get 200+ Runs in T-20 lets see which team have got this "
   ]
  },
  {
   "cell_type": "code",
   "execution_count": 20,
   "metadata": {},
   "outputs": [
    {
     "data": {
      "text/html": [
       "<div>\n",
       "<style scoped>\n",
       "    .dataframe tbody tr th:only-of-type {\n",
       "        vertical-align: middle;\n",
       "    }\n",
       "\n",
       "    .dataframe tbody tr th {\n",
       "        vertical-align: top;\n",
       "    }\n",
       "\n",
       "    .dataframe thead th {\n",
       "        text-align: right;\n",
       "    }\n",
       "</style>\n",
       "<table border=\"1\" class=\"dataframe\">\n",
       "  <thead>\n",
       "    <tr style=\"text-align: right;\">\n",
       "      <th></th>\n",
       "      <th>match_id</th>\n",
       "      <th>inning</th>\n",
       "      <th>batting_team</th>\n",
       "      <th>bowling_team</th>\n",
       "      <th>total_runs</th>\n",
       "    </tr>\n",
       "  </thead>\n",
       "  <tbody>\n",
       "    <tr>\n",
       "      <th>416</th>\n",
       "      <td>206</td>\n",
       "      <td>1</td>\n",
       "      <td>Chennai Super Kings</td>\n",
       "      <td>Rajasthan Royals</td>\n",
       "      <td>246</td>\n",
       "    </tr>\n",
       "    <tr>\n",
       "      <th>122</th>\n",
       "      <td>61</td>\n",
       "      <td>1</td>\n",
       "      <td>Chennai Super Kings</td>\n",
       "      <td>Kings XI Punjab</td>\n",
       "      <td>240</td>\n",
       "    </tr>\n",
       "    <tr>\n",
       "      <th>522</th>\n",
       "      <td>259</td>\n",
       "      <td>1</td>\n",
       "      <td>Delhi Daredevils</td>\n",
       "      <td>Kings XI Punjab</td>\n",
       "      <td>231</td>\n",
       "    </tr>\n",
       "    <tr>\n",
       "      <th>100</th>\n",
       "      <td>50</td>\n",
       "      <td>1</td>\n",
       "      <td>Kings XI Punjab</td>\n",
       "      <td>Mumbai Indians</td>\n",
       "      <td>230</td>\n",
       "    </tr>\n",
       "    <tr>\n",
       "      <th>101</th>\n",
       "      <td>50</td>\n",
       "      <td>2</td>\n",
       "      <td>Mumbai Indians</td>\n",
       "      <td>Kings XI Punjab</td>\n",
       "      <td>223</td>\n",
       "    </tr>\n",
       "    <tr>\n",
       "      <th>417</th>\n",
       "      <td>206</td>\n",
       "      <td>2</td>\n",
       "      <td>Rajasthan Royals</td>\n",
       "      <td>Chennai Super Kings</td>\n",
       "      <td>223</td>\n",
       "    </tr>\n",
       "    <tr>\n",
       "      <th>120</th>\n",
       "      <td>60</td>\n",
       "      <td>1</td>\n",
       "      <td>Kolkata Knight Riders</td>\n",
       "      <td>Royal Challengers Bangalore</td>\n",
       "      <td>222</td>\n",
       "    </tr>\n",
       "    <tr>\n",
       "      <th>194</th>\n",
       "      <td>97</td>\n",
       "      <td>1</td>\n",
       "      <td>Kings XI Punjab</td>\n",
       "      <td>Rajasthan Royals</td>\n",
       "      <td>221</td>\n",
       "    </tr>\n",
       "    <tr>\n",
       "      <th>368</th>\n",
       "      <td>183</td>\n",
       "      <td>1</td>\n",
       "      <td>Mumbai Indians</td>\n",
       "      <td>Delhi Daredevils</td>\n",
       "      <td>218</td>\n",
       "    </tr>\n",
       "    <tr>\n",
       "      <th>137</th>\n",
       "      <td>68</td>\n",
       "      <td>2</td>\n",
       "      <td>Rajasthan Royals</td>\n",
       "      <td>Deccan Chargers</td>\n",
       "      <td>217</td>\n",
       "    </tr>\n",
       "  </tbody>\n",
       "</table>\n",
       "</div>"
      ],
      "text/plain": [
       "     match_id  inning           batting_team                 bowling_team  \\\n",
       "416       206       1    Chennai Super Kings             Rajasthan Royals   \n",
       "122        61       1    Chennai Super Kings              Kings XI Punjab   \n",
       "522       259       1       Delhi Daredevils              Kings XI Punjab   \n",
       "100        50       1        Kings XI Punjab               Mumbai Indians   \n",
       "101        50       2         Mumbai Indians              Kings XI Punjab   \n",
       "417       206       2       Rajasthan Royals          Chennai Super Kings   \n",
       "120        60       1  Kolkata Knight Riders  Royal Challengers Bangalore   \n",
       "194        97       1        Kings XI Punjab             Rajasthan Royals   \n",
       "368       183       1         Mumbai Indians             Delhi Daredevils   \n",
       "137        68       2       Rajasthan Royals              Deccan Chargers   \n",
       "\n",
       "     total_runs  \n",
       "416         246  \n",
       "122         240  \n",
       "522         231  \n",
       "100         230  \n",
       "101         223  \n",
       "417         223  \n",
       "120         222  \n",
       "194         221  \n",
       "368         218  \n",
       "137         217  "
      ]
     },
     "execution_count": 20,
     "metadata": {},
     "output_type": "execute_result"
    }
   ],
   "source": [
    "high_scores=df2.groupby(['match_id', 'inning','batting_team','bowling_team'])['total_runs'].sum().reset_index() \n",
    "#reset_index() converts the obtained series into a dataframe\n",
    "high_scores.nlargest(10,'total_runs')\n",
    "#nlargest is used to sort the given column"
   ]
  },
  {
   "cell_type": "markdown",
   "metadata": {},
   "source": [
    "# Lets find the relation and comaprison between two teams \n",
    "# Mumbai indians vs Kolkata Knight Riders\n",
    "# TEAM1"
   ]
  },
  {
   "cell_type": "code",
   "execution_count": 27,
   "metadata": {},
   "outputs": [
    {
     "data": {
      "image/png": "[encoded data removed]",
      "text/plain": [
       "<Figure size 432x288 with 1 Axes>"
      ]
     },
     "metadata": {},
     "output_type": "display_data"
    }
   ],
   "source": [
    "mt1=df1[((df1['team1']=='Mumbai Indians')|(df1['team2']=='Mumbai Indians'))&((df1['team1']=='Kolkata Knight Riders')|(df1['team2']=='Kolkata Knight Riders'))]\n",
    "sns.countplot(x='season', hue='winner', data=mt1)\n",
    "plt.xticks(rotation='vertical')\n",
    "plt.show()"
   ]
  },
  {
   "cell_type": "markdown",
   "metadata": {},
   "source": [
    "# TEAM 2 , One of my favourites teams from the league\n",
    "# Sunrisers Hyderabad VS Royal Challengers Bangalore"
   ]
  },
  {
   "cell_type": "code",
   "execution_count": 28,
   "metadata": {},
   "outputs": [
    {
     "data": {
      "image/png": "[encoded data removed]",
      "text/plain": [
       "<Figure size 432x288 with 1 Axes>"
      ]
     },
     "metadata": {},
     "output_type": "display_data"
    }
   ],
   "source": [
    "mt2=df1[((df1['team1']=='Sunrisers Hyderabad')|(df1['team2']=='Sunrisers Hyderabad'))&((df1['team1']=='Royal Challengers Bangalore')|(df1['team2']=='Royal Challengers Bangalore'))]\n",
    "sns.countplot(x='season', hue='winner', data=mt2)\n",
    "plt.xticks(rotation='vertical')\n",
    "plt.show()"
   ]
  },
  {
   "cell_type": "markdown",
   "metadata": {},
   "source": [
    "# Top 10 Batsman of all the time from 2007-2017"
   ]
  },
  {
   "cell_type": "code",
   "execution_count": 33,
   "metadata": {},
   "outputs": [
    {
     "data": {
      "image/png": "[encoded data removed]",
      "text/plain": [
       "<Figure size 432x288 with 1 Axes>"
      ]
     },
     "metadata": {},
     "output_type": "display_data"
    }
   ],
   "source": [
    "batsmen_order = df2.groupby(['batsman']).sum().sort_values(by = 'total_runs' , ascending = False)\n",
    "batsmen10 = batsmen_order.head(10)\n",
    "batsmen10['total_runs'].plot(kind = 'bar', color = ['Red' , 'green' , 'yellow' , 'purple'],width= 0.4, fontsize = 12)\n",
    "plt.title(\"Top 10 Batsman OF All Times in All The Seasons of IPL\" ,fontsize = 12)\n",
    "plt.xlabel(\"Batsman in IPL\", fontsize = 10)\n",
    "plt.ylabel(\"Runs Scored by the Top Batsman\" , fontsize = 10)\n",
    "plt.show()"
   ]
  },
  {
   "cell_type": "markdown",
   "metadata": {},
   "source": [
    "No surprises suresh raina leading from front as he never missed any match. in last 10 seasons."
   ]
  },
  {
   "cell_type": "markdown",
   "metadata": {},
   "source": [
    "Propose further research: So, according to me the further research for this project can be done with basic javascroipt and HTML coding and programing, with applying SQL software on it, I feel accoridng to me till the date python is simmilar kind of software or tool to SQ, In SQL what have i learned is we put in some basic tool that applies into the databse,\n",
    "Here is in vast we need to be more Uppercase sensitive and lower case and lastly, I don't know much about Pyhton it's just the beginning of it, as i feel i can cover upon the things for Some of the things I learn new during learning completing the capston, and that is I want to learn such few things, so i can present with good data visualizations in future and presentable. \n",
    "\n",
    "I would be happy to learn new things and most important is how I Impliment it. How i can implimentit that would be the biggest challenge i feel i need to put in.\n",
    "\n",
    "And for further purpose of research ,as i would say, Cricket is growing sport and Second most loving sport in the world, so stataistically i feel Cricket, world cup would be a good option or league season, so we can have it over to see how different languages work on it."
   ]
  }
 ],
 "metadata": {
  "kernelspec": {
   "display_name": "Python 3",
   "language": "python",
   "name": "python3"
  },
  "language_info": {
   "codemirror_mode": {
    "name": "ipython",
    "version": 3
   },
   "file_extension": ".py",
   "mimetype": "text/x-python",
   "name": "python",
   "nbconvert_exporter": "python",
   "pygments_lexer": "ipython3",
   "version": "3.6.5"
  }
 },
 "nbformat": 4,
 "nbformat_minor": 2
}
